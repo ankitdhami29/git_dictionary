{
 "cells": [
  {
   "cell_type": "code",
   "execution_count": null,
   "id": "d68e7478",
   "metadata": {},
   "outputs": [],
   "source": []
  },
  {
   "cell_type": "code",
   "execution_count": null,
   "id": "b9169a27",
   "metadata": {},
   "outputs": [],
   "source": [
    "import requests\n",
    "import webbrowser\n",
    "\n",
    "def fetch_user_repositories(username):\n",
    "    url = f\"https://api.github.com/users/{username}/repos\"\n",
    "    try:\n",
    "        response = requests.get(url)\n",
    "        response.raise_for_status()\n",
    "        repositories = response.json()\n",
    "        return repositories\n",
    "    except requests.exceptions.RequestException as e:\n",
    "        print(\"Error fetching repositories:\", e)\n",
    "        return None\n",
    "\n",
    "def main():\n",
    "    username = input(\"Enter GitHub username: \")\n",
    "\n",
    "    repositories = fetch_user_repositories(username)\n",
    "\n",
    "    if repositories:\n",
    "        print(f\"Repositories for user {username}:\")\n",
    "        for i, repo in enumerate(repositories, start=1):\n",
    "            print(f\"{i}. {repo['name']}\")\n",
    "\n",
    "        try:\n",
    "            choice = int(input(\"Enter the number of the repository you want to open: \"))\n",
    "            if 1 <= choice <= len(repositories):\n",
    "                selected_repo = repositories[choice - 1]\n",
    "                repo_url = selected_repo[\"html_url\"]\n",
    "                webbrowser.open(repo_url)\n",
    "            else:\n",
    "                print(\"Invalid choice. Please enter a valid number.\")\n",
    "        except ValueError:\n",
    "            print(\"Invalid input. Please enter a valid number.\")\n",
    "    else:\n",
    "        print(\"Failed to fetch repositories.\")\n",
    "\n",
    "if __name__ == \"__main__\":\n",
    "    main()\n"
   ]
  },
  {
   "cell_type": "code",
   "execution_count": null,
   "id": "c131a8e9",
   "metadata": {},
   "outputs": [],
   "source": []
  },
  {
   "cell_type": "code",
   "execution_count": null,
   "id": "9902e543",
   "metadata": {},
   "outputs": [],
   "source": []
  },
  {
   "cell_type": "code",
   "execution_count": null,
   "id": "91dd5407",
   "metadata": {},
   "outputs": [],
   "source": []
  }
 ],
 "metadata": {
  "kernelspec": {
   "display_name": "Python 3 (ipykernel)",
   "language": "python",
   "name": "python3"
  },
  "language_info": {
   "codemirror_mode": {
    "name": "ipython",
    "version": 3
   },
   "file_extension": ".py",
   "mimetype": "text/x-python",
   "name": "python",
   "nbconvert_exporter": "python",
   "pygments_lexer": "ipython3",
   "version": "3.11.5"
  }
 },
 "nbformat": 4,
 "nbformat_minor": 5
}
